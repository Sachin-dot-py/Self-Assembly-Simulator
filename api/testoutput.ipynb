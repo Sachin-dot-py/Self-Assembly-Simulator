{
 "cells": [
  {
   "cell_type": "code",
   "execution_count": 4,
   "metadata": {},
   "outputs": [
    {
     "data": {
      "application/vnd.jupyter.widget-view+json": {
       "model_id": "5cfda28bdfba4b548d7ce060fcd992c2",
       "version_major": 2,
       "version_minor": 0
      },
      "text/plain": [
       "NGLWidget(max_frame=20)"
      ]
     },
     "metadata": {},
     "output_type": "display_data"
    }
   ],
   "source": [
    "import nglview\n",
    "from nglview.contrib.movie import MovieMaker\n",
    "import mdtraj\n",
    "trajectory_LCO = \"/Users/sachin/Documents/Coding/Self-Assembly/api/temp/LCO_mlff.heat.lammpstrj\"\n",
    "topology_LCO = \"/Users/sachin/Documents/Coding/Self-Assembly/api/temp/LCO_pristine.mol2\"\n",
    "trj_LCO = mdtraj.load_lammpstrj(trajectory_LCO, top=topology_LCO)\n",
    "view = nglview.show_mdtraj(trj_LCO)\n",
    "view\n",
    "# nglview.write_html('index.html', [view], frame_range=(0, view.max_frame, 1)) "
   ]
  },
  {
   "cell_type": "code",
   "execution_count": 5,
   "metadata": {},
   "outputs": [
    {
     "data": {
      "application/vnd.jupyter.widget-view+json": {
       "model_id": "442c5d60a9ed4d09881a65164bdc476f",
       "version_major": 2,
       "version_minor": 0
      },
      "text/plain": [
       "IntProgress(value=0, description='Rendering ...', max=20)"
      ]
     },
     "execution_count": 5,
     "metadata": {},
     "output_type": "execute_result"
    }
   ],
   "source": [
    "movie = MovieMaker(view, output='test.gif', in_memory=True)\n",
    "movie.make()"
   ]
  },
  {
   "cell_type": "code",
   "execution_count": 6,
   "metadata": {},
   "outputs": [],
   "source": [
    "nglview.write_html('index.html', [view], frame_range=(0, view.max_frame, 1)) "
   ]
  },
  {
   "cell_type": "code",
   "execution_count": null,
   "metadata": {},
   "outputs": [],
   "source": []
  }
 ],
 "metadata": {
  "kernelspec": {
   "display_name": "Python 3 (ipykernel)",
   "language": "python",
   "name": "python3"
  },
  "language_info": {
   "codemirror_mode": {
    "name": "ipython",
    "version": 3
   },
   "file_extension": ".py",
   "mimetype": "text/x-python",
   "name": "python",
   "nbconvert_exporter": "python",
   "pygments_lexer": "ipython3",
   "version": "3.10.0"
  }
 },
 "nbformat": 4,
 "nbformat_minor": 4
}
