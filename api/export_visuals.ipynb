{
 "cells": [
  {
   "cell_type": "code",
   "execution_count": null,
   "metadata": {},
   "outputs": [],
   "source": [
    "import nglview\n",
    "import mdtraj\n",
    "trajectory_LCO = '/Users/sachin/Documents/Coding/Self-Assembly/api/temp/LCO_mlff.heat.lammpstrj'\n",
    "topology_LCO = '/Users/sachin/Documents/Coding/Self-Assembly/api/temp/LCO_pristine.mol2'\n",
    "trj_LCO = mdtraj.load_lammpstrj(trajectory_LCO, top=topology_LCO)\n",
    "view = nglview.show_mdtraj(trj_LCO)\n",
    "view"
   ]
  },
  {
   "cell_type": "code",
   "execution_count": 10,
   "metadata": {},
   "outputs": [],
   "source": [
    "nglview.write_html('test.html', [view], frame_range=(0, view.max_frame, 1)) \n",
    "# movie = MovieMaker(view, output='visual.gif', in_memory=True)\n",
    "# movie.make()"
   ]
  }
 ],
 "metadata": {
  "kernelspec": {
   "display_name": "Python 3 (ipykernel)",
   "language": "python",
   "name": "python3"
  },
  "language_info": {
   "codemirror_mode": {
    "name": "ipython",
    "version": 3
   },
   "file_extension": ".py",
   "mimetype": "text/x-python",
   "name": "python",
   "nbconvert_exporter": "python",
   "pygments_lexer": "ipython3",
   "version": "3.10.0"
  }
 },
 "nbformat": 4,
 "nbformat_minor": 4
}
