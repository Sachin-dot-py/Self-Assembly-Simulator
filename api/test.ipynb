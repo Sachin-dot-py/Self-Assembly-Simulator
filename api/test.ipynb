{
 "cells": [
  {
   "cell_type": "code",
   "execution_count": 1,
   "metadata": {},
   "outputs": [
    {
     "data": {
      "application/vnd.jupyter.widget-view+json": {
       "model_id": "03e3024f089e49e7be861391f96f100b",
       "version_major": 2,
       "version_minor": 0
      },
      "text/plain": []
     },
     "metadata": {},
     "output_type": "display_data"
    },
    {
     "data": {
      "application/vnd.jupyter.widget-view+json": {
       "model_id": "725c1dd987164f4fb4c2b2e4e47eda34",
       "version_major": 2,
       "version_minor": 0
      },
      "text/plain": [
       "NGLWidget(max_frame=2021)"
      ]
     },
     "metadata": {},
     "output_type": "display_data"
    }
   ],
   "source": [
    "import nglview\n",
    "import mdtraj\n",
    "\n",
    "trajectory_LCO = \"temp/Au_CA_WAT.visualization.lammpstrj\"\n",
    "trj_LCO = mdtraj.load_lammpstrj(trajectory_LCO, top=\"temp/Au_CA_WAT.edited.pdb\")\n",
    "view = nglview.show_mdtraj(trj_LCO)\n",
    "view\n",
    "#  view.render_image()\n",
    " # view._display_image()\n",
    " # sleep(5)\n",
    "#  nglview.write_html('index.html', [view], frame_range=(0, view.max_frame, 1)) \n",
    " "
   ]
  },
  {
   "cell_type": "code",
   "execution_count": 5,
   "metadata": {},
   "outputs": [],
   "source": [
    "nglview.write_html('index.html', [view], frame_range=(0, view.max_frame, 1))"
   ]
  },
  {
   "cell_type": "code",
   "execution_count": 22,
   "metadata": {},
   "outputs": [
    {
     "data": {
      "application/vnd.jupyter.widget-view+json": {
       "model_id": "917deb48248945cca75f806e9baad97b",
       "version_major": 2,
       "version_minor": 0
      },
      "text/plain": [
       "NGLWidget(max_frame=1000)"
      ]
     },
     "metadata": {},
     "output_type": "display_data"
    }
   ],
   "source": [
    "import mdtraj as md\n",
    "import nglview as nv\n",
    "traj = md.load('dppc-md.xtc', top='dppc-md.gro')\n",
    "\n",
    "# Create an NGLView widget from the mdtraj trajectory\n",
    "view = nv.show_mdtraj(traj)\n",
    "\n",
    "# Display the widget (works in Jupyter Notebook)\n",
    "view"
   ]
  },
  {
   "cell_type": "code",
   "execution_count": 19,
   "metadata": {},
   "outputs": [
    {
     "ename": "AttributeError",
     "evalue": "'str' object has no attribute '__module__'",
     "output_type": "error",
     "traceback": [
      "\u001b[0;31m---------------------------------------------------------------------------\u001b[0m",
      "\u001b[0;31mAttributeError\u001b[0m                            Traceback (most recent call last)",
      "Cell \u001b[0;32mIn[19], line 7\u001b[0m\n\u001b[1;32m      4\u001b[0m view \u001b[38;5;241m=\u001b[39m nv\u001b[38;5;241m.\u001b[39mshow_file(\u001b[38;5;124m'\u001b[39m\u001b[38;5;124mdppc-md.gro\u001b[39m\u001b[38;5;124m'\u001b[39m)\n\u001b[1;32m      6\u001b[0m \u001b[38;5;66;03m# Add the XTC trajectory to the viewer\u001b[39;00m\n\u001b[0;32m----> 7\u001b[0m \u001b[43mview\u001b[49m\u001b[38;5;241;43m.\u001b[39;49m\u001b[43madd_trajectory\u001b[49m\u001b[43m(\u001b[49m\u001b[38;5;124;43m'\u001b[39;49m\u001b[38;5;124;43mdppc-md.xtc\u001b[39;49m\u001b[38;5;124;43m'\u001b[39;49m\u001b[43m)\u001b[49m\n\u001b[1;32m      9\u001b[0m \u001b[38;5;66;03m# Display the widget (works in Jupyter Notebook)\u001b[39;00m\n\u001b[1;32m     10\u001b[0m view\n",
      "File \u001b[0;32m~/Library/Python/3.9/lib/python/site-packages/nglview/widget.py:1056\u001b[0m, in \u001b[0;36mNGLWidget.add_trajectory\u001b[0;34m(self, trajectory, **kwargs)\u001b[0m\n\u001b[1;32m   1035\u001b[0m \u001b[38;5;250m\u001b[39m\u001b[38;5;124;03m'''add new trajectory to `view`\u001b[39;00m\n\u001b[1;32m   1036\u001b[0m \n\u001b[1;32m   1037\u001b[0m \u001b[38;5;124;03mParameters\u001b[39;00m\n\u001b[0;32m   (...)\u001b[0m\n\u001b[1;32m   1052\u001b[0m \u001b[38;5;124;03m>>> c = view.add_trajectory(traj)\u001b[39;00m\n\u001b[1;32m   1053\u001b[0m \u001b[38;5;124;03m'''\u001b[39;00m\n\u001b[1;32m   1054\u001b[0m backends \u001b[38;5;241m=\u001b[39m BACKENDS\n\u001b[0;32m-> 1056\u001b[0m package_name \u001b[38;5;241m=\u001b[39m \u001b[43mtrajectory\u001b[49m\u001b[38;5;241;43m.\u001b[39;49m\u001b[38;5;18;43m__module__\u001b[39;49m\u001b[38;5;241m.\u001b[39msplit(\u001b[38;5;124m'\u001b[39m\u001b[38;5;124m.\u001b[39m\u001b[38;5;124m'\u001b[39m)[\u001b[38;5;241m0\u001b[39m]\n\u001b[1;32m   1058\u001b[0m \u001b[38;5;28;01mif\u001b[39;00m package_name \u001b[38;5;129;01min\u001b[39;00m backends:\n\u001b[1;32m   1059\u001b[0m     trajectory \u001b[38;5;241m=\u001b[39m backends[package_name](trajectory)\n",
      "\u001b[0;31mAttributeError\u001b[0m: 'str' object has no attribute '__module__'"
     ]
    }
   ],
   "source": [
    "import nglview as nv\n",
    "\n",
    "# Load the static structure file\n",
    "view = nv.show_file('dppc-md.gro')\n",
    "\n",
    "# Add the XTC trajectory to the viewer\n",
    "view.add_trajectory('dppc-md.xtc')\n",
    "\n",
    "# Display the widget (works in Jupyter Notebook)\n",
    "view"
   ]
  }
 ],
 "metadata": {
  "kernelspec": {
   "display_name": "Python 3",
   "language": "python",
   "name": "python3"
  },
  "language_info": {
   "codemirror_mode": {
    "name": "ipython",
    "version": 3
   },
   "file_extension": ".py",
   "mimetype": "text/x-python",
   "name": "python",
   "nbconvert_exporter": "python",
   "pygments_lexer": "ipython3",
   "version": "3.9.6"
  }
 },
 "nbformat": 4,
 "nbformat_minor": 2
}
